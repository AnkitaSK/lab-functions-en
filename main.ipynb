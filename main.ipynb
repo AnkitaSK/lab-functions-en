{
 "cells": [
  {
   "cell_type": "markdown",
   "metadata": {},
   "source": [
    "# Functions"
   ]
  },
  {
   "cell_type": "markdown",
   "metadata": {},
   "source": [
    "On this lab we will put to practice some of the concepts we have learned on this past few days.\n",
    "\n",
    "`NOTE: On this lab you should try to write all the functions yourself using only the most basic of python syntax and without functions such as len, count, sum, max, min, in, etc. Give it a try. 🧑🏻‍💻👩🏻‍💻`\n",
    "\n",
    "The cell after each exercise contains a few tests to check if your function works as expected."
   ]
  },
  {
   "cell_type": "code",
   "execution_count": 108,
   "metadata": {},
   "outputs": [],
   "source": [
    "from mod.testing import *\n",
    "import unittest"
   ]
  },
  {
   "cell_type": "markdown",
   "metadata": {},
   "source": [
    "## 1. Write a function that returns the greater of two numbers"
   ]
  },
  {
   "cell_type": "code",
   "execution_count": 109,
   "metadata": {},
   "outputs": [],
   "source": [
    "def greater(a,b):\n",
    "#your code here\n",
    "    if a > b: \n",
    "        return a\n",
    "    else:\n",
    "        return b"
   ]
  },
  {
   "cell_type": "code",
   "execution_count": 110,
   "metadata": {},
   "outputs": [
    {
     "name": "stderr",
     "output_type": "stream",
     "text": [
      "....................................................................................................\n",
      "----------------------------------------------------------------------\n",
      "Ran 100 tests in 0.017s\n",
      "\n",
      "OK\n"
     ]
    }
   ],
   "source": [
    "# This will test your function \n",
    "test_greater(greater)"
   ]
  },
  {
   "cell_type": "code",
   "execution_count": 111,
   "metadata": {},
   "outputs": [
    {
     "name": "stdout",
     "output_type": "stream",
     "text": [
      "91\n"
     ]
    }
   ],
   "source": [
    "#your code here\n",
    "print(greater(91, 10))"
   ]
  },
  {
   "cell_type": "markdown",
   "metadata": {},
   "source": [
    "## 2. Now write a function that returns the largest element on a list"
   ]
  },
  {
   "cell_type": "code",
   "execution_count": 112,
   "metadata": {},
   "outputs": [],
   "source": [
    "#your code here"
   ]
  },
  {
   "cell_type": "code",
   "execution_count": 113,
   "metadata": {},
   "outputs": [
    {
     "ename": "NameError",
     "evalue": "name 'greatest' is not defined",
     "output_type": "error",
     "traceback": [
      "\u001b[0;31m---------------------------------------------------------------------------\u001b[0m",
      "\u001b[0;31mNameError\u001b[0m                                 Traceback (most recent call last)",
      "Cell \u001b[0;32mIn[113], line 2\u001b[0m\n\u001b[1;32m      1\u001b[0m \u001b[38;5;66;03m# This will test your function \u001b[39;00m\n\u001b[0;32m----> 2\u001b[0m test_greatest(greatest)\n",
      "\u001b[0;31mNameError\u001b[0m: name 'greatest' is not defined"
     ]
    }
   ],
   "source": [
    "# This will test your function \n",
    "test_greatest(greatest)"
   ]
  },
  {
   "cell_type": "markdown",
   "metadata": {},
   "source": [
    "## 3. Write a function that sums all the elements on a list"
   ]
  },
  {
   "cell_type": "code",
   "execution_count": null,
   "metadata": {},
   "outputs": [],
   "source": [
    "def sum_all(lst):\n",
    "#your code here\n",
    "    sum = 0\n",
    "    for i in lst:\n",
    "        sum += i\n",
    "    return sum    "
   ]
  },
  {
   "cell_type": "code",
   "execution_count": null,
   "metadata": {
    "scrolled": true
   },
   "outputs": [
    {
     "name": "stderr",
     "output_type": "stream",
     "text": [
      "....................................................................................................\n",
      "----------------------------------------------------------------------\n",
      "Ran 100 tests in 0.040s\n",
      "\n",
      "OK\n"
     ]
    }
   ],
   "source": [
    "# This will test your function \n",
    "test_sum(sum_all)"
   ]
  },
  {
   "cell_type": "markdown",
   "metadata": {},
   "source": [
    "## 4. Write another function that multiplies all the elements on a list"
   ]
  },
  {
   "cell_type": "code",
   "execution_count": null,
   "metadata": {},
   "outputs": [],
   "source": [
    "def mult_all(lst):\n",
    "#your code here\n",
    "    multiply = 1\n",
    "    for i in lst:\n",
    "        multiply *= i\n",
    "    return multiply   "
   ]
  },
  {
   "cell_type": "code",
   "execution_count": null,
   "metadata": {
    "scrolled": true
   },
   "outputs": [
    {
     "name": "stderr",
     "output_type": "stream",
     "text": [
      "....................................................................................................\n",
      "----------------------------------------------------------------------\n",
      "Ran 100 tests in 0.026s\n",
      "\n",
      "OK\n"
     ]
    }
   ],
   "source": [
    "# This will test your function \n",
    "test_mult(mult_all)"
   ]
  },
  {
   "cell_type": "markdown",
   "metadata": {},
   "source": [
    "## 5. Now combine those two ideas and write a function that receives a list and either \"+\" or \"*\" and outputs acordingly"
   ]
  },
  {
   "cell_type": "code",
   "execution_count": null,
   "metadata": {},
   "outputs": [],
   "source": [
    "def oper_all(arr, oper = \"*\"):\n",
    "#your code here\n",
    "    if oper == \"+\":\n",
    "        return sum_all(arr)\n",
    "    else:\n",
    "        return mult_all(arr)"
   ]
  },
  {
   "cell_type": "code",
   "execution_count": null,
   "metadata": {},
   "outputs": [
    {
     "name": "stderr",
     "output_type": "stream",
     "text": [
      "....................................................................................................\n",
      "----------------------------------------------------------------------\n",
      "Ran 100 tests in 0.044s\n",
      "\n",
      "OK\n"
     ]
    }
   ],
   "source": [
    "# This will test your function \n",
    "test_operations(oper_all)"
   ]
  },
  {
   "cell_type": "markdown",
   "metadata": {},
   "source": [
    "## 6. Write a function that returns the factorial of a number."
   ]
  },
  {
   "cell_type": "code",
   "execution_count": null,
   "metadata": {},
   "outputs": [],
   "source": [
    "def factorial(n):\n",
    "#your code here\n",
    "    if n <= 1: \n",
    "        return 1\n",
    "    return n * factorial(n - 1)"
   ]
  },
  {
   "cell_type": "code",
   "execution_count": null,
   "metadata": {},
   "outputs": [],
   "source": [
    "#factorial formula\n",
    "#n! = n * ( n - 1 ) *...*1\n",
    "\n",
    "# This code defines a function called \"factorial\" which takes an input \"n\". The function uses a for loop to iterate through the range of numbers \n",
    "# from 1 to n+1. For each number in that range, it multiplies the current value of x by the number in the range. At the end of the loop, \n",
    "# the function returns the final value of x, which will be the factorial of the input number \"n\".\n",
    "\n",
    "# The Factorial of a positive integer n is the product of all positive integers less than or equal to n. \n",
    "# For example, the factorial of 6 (written \"6!\") is 6 * 5 * 4 * 3 * 2 * 1 = 720.\n",
    "\n",
    "# So this function takes an input of any positive integer, and returns the factorial of that number."
   ]
  },
  {
   "cell_type": "code",
   "execution_count": null,
   "metadata": {},
   "outputs": [
    {
     "name": "stderr",
     "output_type": "stream",
     "text": [
      "....................................................................................................\n",
      "----------------------------------------------------------------------\n",
      "Ran 100 tests in 0.033s\n",
      "\n",
      "OK\n"
     ]
    }
   ],
   "source": [
    "# This will test your function \n",
    "test_factorial(factorial)"
   ]
  },
  {
   "cell_type": "markdown",
   "metadata": {},
   "source": [
    "## 7. Write a function that takes a list and returns a list of the unique values.\n",
    "\n",
    "`NOTE: You cannot use set. 🤔`"
   ]
  },
  {
   "cell_type": "code",
   "execution_count": null,
   "metadata": {},
   "outputs": [],
   "source": [
    "\n",
    "def unique(lst_un):\n",
    "#your code here\n",
    "    uniqueList = []\n",
    "    for l in lst_un:\n",
    "        if l not in uniqueList:\n",
    "            uniqueList.append(l)\n",
    "    return uniqueList        "
   ]
  },
  {
   "cell_type": "code",
   "execution_count": null,
   "metadata": {},
   "outputs": [
    {
     "name": "stderr",
     "output_type": "stream",
     "text": [
      "....................................................................................................\n",
      "----------------------------------------------------------------------\n",
      "Ran 100 tests in 0.059s\n",
      "\n",
      "OK\n"
     ]
    }
   ],
   "source": [
    "# This will test your function \n",
    "test_unique(unique)"
   ]
  },
  {
   "cell_type": "markdown",
   "metadata": {},
   "source": [
    "## 8. Write a function that returns the mode of a list, i.e.: the element that appears the most times.\n",
    "`NOTE: You should not use count... 🧐`"
   ]
  },
  {
   "cell_type": "code",
   "execution_count": null,
   "metadata": {},
   "outputs": [],
   "source": [
    "def mode_counter(arr):\n",
    "#your code here\n",
    "    dict = {}\n",
    "    for a in arr:\n",
    "        dict[a] = dict[a]+1 if(a in dict) else 1 \n",
    "    maxKey = max(dict,key=dict.get)\n",
    "    return maxKey        \n",
    "\n",
    "    \n",
    "\n",
    "    # {1: 1, 2: 2, 3: 1}"
   ]
  },
  {
   "cell_type": "code",
   "execution_count": 81,
   "metadata": {},
   "outputs": [
    {
     "name": "stderr",
     "output_type": "stream",
     "text": [
      "....................................................................................................\n",
      "----------------------------------------------------------------------\n",
      "Ran 100 tests in 0.024s\n",
      "\n",
      "OK\n"
     ]
    }
   ],
   "source": [
    "# This will test your function \n",
    "test_mode(mode_counter)"
   ]
  },
  {
   "cell_type": "markdown",
   "metadata": {},
   "source": [
    "## 9. Write a function that calculates the standard deviation of a list.\n",
    "`NOTE: Do not use any libraries or already built functions. 😉`"
   ]
  },
  {
   "cell_type": "code",
   "execution_count": 100,
   "metadata": {},
   "outputs": [],
   "source": [
    "# import statistics\n",
    "\n",
    "def st_dev(list_sd):\n",
    "#your code here\n",
    "    mean = sum(list_sd) / len(list_sd) \n",
    "    variance = sum([((x - mean) ** 2) for x in list_sd]) / len(list_sd) \n",
    "    res = variance ** 0.5\n",
    "    return res"
   ]
  },
  {
   "cell_type": "code",
   "execution_count": 101,
   "metadata": {},
   "outputs": [
    {
     "name": "stderr",
     "output_type": "stream",
     "text": [
      "FF.FF.FF.F.FFFF.......F.F..F.FFFF.FF.F.F..F..F.FF..F...FFFFFF....FF...FFFF.F.FF.FF.FF..FFF.FFFFFFF..\n",
      "======================================================================\n",
      "FAIL: runTest (mod.testing.test_stdev.<locals>.TestKnown.runTest)\n",
      "----------------------------------------------------------------------\n",
      "Traceback (most recent call last):\n",
      "  File \"/Users/ankita/Documents/Ironhack/FunctionsLab3/lab-functions-en/mod/testing.py\", line 142, in runTest\n",
      "    self.assertAlmostEqual(fn(self.input), self.output, delta=5, msg=f\"Should be {self.output}\")\n",
      "AssertionError: 621.8736728739801 != 631.5157001575294 within 5 delta (9.642027283549282 difference) : Should be 631.5157001575294\n",
      "\n",
      "======================================================================\n",
      "FAIL: runTest (mod.testing.test_stdev.<locals>.TestKnown.runTest)\n",
      "----------------------------------------------------------------------\n",
      "Traceback (most recent call last):\n",
      "  File \"/Users/ankita/Documents/Ironhack/FunctionsLab3/lab-functions-en/mod/testing.py\", line 142, in runTest\n",
      "    self.assertAlmostEqual(fn(self.input), self.output, delta=5, msg=f\"Should be {self.output}\")\n",
      "AssertionError: 557.3023060597418 != 565.2076981636857 within 5 delta (7.905392103943882 difference) : Should be 565.2076981636857\n",
      "\n",
      "======================================================================\n",
      "FAIL: runTest (mod.testing.test_stdev.<locals>.TestKnown.runTest)\n",
      "----------------------------------------------------------------------\n",
      "Traceback (most recent call last):\n",
      "  File \"/Users/ankita/Documents/Ironhack/FunctionsLab3/lab-functions-en/mod/testing.py\", line 142, in runTest\n",
      "    self.assertAlmostEqual(fn(self.input), self.output, delta=5, msg=f\"Should be {self.output}\")\n",
      "AssertionError: 461.83426560714275 != 482.37015838147545 within 5 delta (20.535892774332694 difference) : Should be 482.37015838147545\n",
      "\n",
      "======================================================================\n",
      "FAIL: runTest (mod.testing.test_stdev.<locals>.TestKnown.runTest)\n",
      "----------------------------------------------------------------------\n",
      "Traceback (most recent call last):\n",
      "  File \"/Users/ankita/Documents/Ironhack/FunctionsLab3/lab-functions-en/mod/testing.py\", line 142, in runTest\n",
      "    self.assertAlmostEqual(fn(self.input), self.output, delta=5, msg=f\"Should be {self.output}\")\n",
      "AssertionError: 573.4714590709924 != 579.4143272176086 within 5 delta (5.942868146616206 difference) : Should be 579.4143272176086\n",
      "\n",
      "======================================================================\n",
      "FAIL: runTest (mod.testing.test_stdev.<locals>.TestKnown.runTest)\n",
      "----------------------------------------------------------------------\n",
      "Traceback (most recent call last):\n",
      "  File \"/Users/ankita/Documents/Ironhack/FunctionsLab3/lab-functions-en/mod/testing.py\", line 142, in runTest\n",
      "    self.assertAlmostEqual(fn(self.input), self.output, delta=5, msg=f\"Should be {self.output}\")\n",
      "AssertionError: 590.1269898372761 != 598.2670569833103 within 5 delta (8.140067146034198 difference) : Should be 598.2670569833103\n",
      "\n",
      "======================================================================\n",
      "FAIL: runTest (mod.testing.test_stdev.<locals>.TestKnown.runTest)\n",
      "----------------------------------------------------------------------\n",
      "Traceback (most recent call last):\n",
      "  File \"/Users/ankita/Documents/Ironhack/FunctionsLab3/lab-functions-en/mod/testing.py\", line 142, in runTest\n",
      "    self.assertAlmostEqual(fn(self.input), self.output, delta=5, msg=f\"Should be {self.output}\")\n",
      "AssertionError: 555.6811611578969 != 560.9988053923726 within 5 delta (5.317644234475665 difference) : Should be 560.9988053923726\n",
      "\n",
      "======================================================================\n",
      "FAIL: runTest (mod.testing.test_stdev.<locals>.TestKnown.runTest)\n",
      "----------------------------------------------------------------------\n",
      "Traceback (most recent call last):\n",
      "  File \"/Users/ankita/Documents/Ironhack/FunctionsLab3/lab-functions-en/mod/testing.py\", line 142, in runTest\n",
      "    self.assertAlmostEqual(fn(self.input), self.output, delta=5, msg=f\"Should be {self.output}\")\n",
      "AssertionError: 645.0639287870794 != 673.7472999889678 within 5 delta (28.683371201888463 difference) : Should be 673.7472999889678\n",
      "\n",
      "======================================================================\n",
      "FAIL: runTest (mod.testing.test_stdev.<locals>.TestKnown.runTest)\n",
      "----------------------------------------------------------------------\n",
      "Traceback (most recent call last):\n",
      "  File \"/Users/ankita/Documents/Ironhack/FunctionsLab3/lab-functions-en/mod/testing.py\", line 142, in runTest\n",
      "    self.assertAlmostEqual(fn(self.input), self.output, delta=5, msg=f\"Should be {self.output}\")\n",
      "AssertionError: 546.2906402894159 != 554.5059981287708 within 5 delta (8.215357839354851 difference) : Should be 554.5059981287708\n",
      "\n",
      "======================================================================\n",
      "FAIL: runTest (mod.testing.test_stdev.<locals>.TestKnown.runTest)\n",
      "----------------------------------------------------------------------\n",
      "Traceback (most recent call last):\n",
      "  File \"/Users/ankita/Documents/Ironhack/FunctionsLab3/lab-functions-en/mod/testing.py\", line 142, in runTest\n",
      "    self.assertAlmostEqual(fn(self.input), self.output, delta=5, msg=f\"Should be {self.output}\")\n",
      "AssertionError: 562.9035122306776 != 571.1215164521661 within 5 delta (8.218004221488513 difference) : Should be 571.1215164521661\n",
      "\n",
      "======================================================================\n",
      "FAIL: runTest (mod.testing.test_stdev.<locals>.TestKnown.runTest)\n",
      "----------------------------------------------------------------------\n",
      "Traceback (most recent call last):\n",
      "  File \"/Users/ankita/Documents/Ironhack/FunctionsLab3/lab-functions-en/mod/testing.py\", line 142, in runTest\n",
      "    self.assertAlmostEqual(fn(self.input), self.output, delta=5, msg=f\"Should be {self.output}\")\n",
      "AssertionError: 607.6106641063852 != 616.2296855855172 within 5 delta (8.619021479132016 difference) : Should be 616.2296855855172\n",
      "\n",
      "======================================================================\n",
      "FAIL: runTest (mod.testing.test_stdev.<locals>.TestKnown.runTest)\n",
      "----------------------------------------------------------------------\n",
      "Traceback (most recent call last):\n",
      "  File \"/Users/ankita/Documents/Ironhack/FunctionsLab3/lab-functions-en/mod/testing.py\", line 142, in runTest\n",
      "    self.assertAlmostEqual(fn(self.input), self.output, delta=5, msg=f\"Should be {self.output}\")\n",
      "AssertionError: 564.5858155509238 != 570.0941002874032 within 5 delta (5.508284736479368 difference) : Should be 570.0941002874032\n",
      "\n",
      "======================================================================\n",
      "FAIL: runTest (mod.testing.test_stdev.<locals>.TestKnown.runTest)\n",
      "----------------------------------------------------------------------\n",
      "Traceback (most recent call last):\n",
      "  File \"/Users/ankita/Documents/Ironhack/FunctionsLab3/lab-functions-en/mod/testing.py\", line 142, in runTest\n",
      "    self.assertAlmostEqual(fn(self.input), self.output, delta=5, msg=f\"Should be {self.output}\")\n",
      "AssertionError: 542.7318612942205 != 554.4048496530677 within 5 delta (11.672988358847192 difference) : Should be 554.4048496530677\n",
      "\n",
      "======================================================================\n",
      "FAIL: runTest (mod.testing.test_stdev.<locals>.TestKnown.runTest)\n",
      "----------------------------------------------------------------------\n",
      "Traceback (most recent call last):\n",
      "  File \"/Users/ankita/Documents/Ironhack/FunctionsLab3/lab-functions-en/mod/testing.py\", line 142, in runTest\n",
      "    self.assertAlmostEqual(fn(self.input), self.output, delta=5, msg=f\"Should be {self.output}\")\n",
      "AssertionError: 569.9696483147151 != 575.7562905626381 within 5 delta (5.786642247923055 difference) : Should be 575.7562905626381\n",
      "\n",
      "======================================================================\n",
      "FAIL: runTest (mod.testing.test_stdev.<locals>.TestKnown.runTest)\n",
      "----------------------------------------------------------------------\n",
      "Traceback (most recent call last):\n",
      "  File \"/Users/ankita/Documents/Ironhack/FunctionsLab3/lab-functions-en/mod/testing.py\", line 142, in runTest\n",
      "    self.assertAlmostEqual(fn(self.input), self.output, delta=5, msg=f\"Should be {self.output}\")\n",
      "AssertionError: 519.2990753473453 != 527.8831126728353 within 5 delta (8.584037325490044 difference) : Should be 527.8831126728353\n",
      "\n",
      "======================================================================\n",
      "FAIL: runTest (mod.testing.test_stdev.<locals>.TestKnown.runTest)\n",
      "----------------------------------------------------------------------\n",
      "Traceback (most recent call last):\n",
      "  File \"/Users/ankita/Documents/Ironhack/FunctionsLab3/lab-functions-en/mod/testing.py\", line 142, in runTest\n",
      "    self.assertAlmostEqual(fn(self.input), self.output, delta=5, msg=f\"Should be {self.output}\")\n",
      "AssertionError: 552.550939409863 != 564.969365009475 within 5 delta (12.418425599612078 difference) : Should be 564.969365009475\n",
      "\n",
      "======================================================================\n",
      "FAIL: runTest (mod.testing.test_stdev.<locals>.TestKnown.runTest)\n",
      "----------------------------------------------------------------------\n",
      "Traceback (most recent call last):\n",
      "  File \"/Users/ankita/Documents/Ironhack/FunctionsLab3/lab-functions-en/mod/testing.py\", line 142, in runTest\n",
      "    self.assertAlmostEqual(fn(self.input), self.output, delta=5, msg=f\"Should be {self.output}\")\n",
      "AssertionError: 572.4697791482533 != 582.6027742903714 within 5 delta (10.132995142118034 difference) : Should be 582.6027742903714\n",
      "\n",
      "======================================================================\n",
      "FAIL: runTest (mod.testing.test_stdev.<locals>.TestKnown.runTest)\n",
      "----------------------------------------------------------------------\n",
      "Traceback (most recent call last):\n",
      "  File \"/Users/ankita/Documents/Ironhack/FunctionsLab3/lab-functions-en/mod/testing.py\", line 142, in runTest\n",
      "    self.assertAlmostEqual(fn(self.input), self.output, delta=5, msg=f\"Should be {self.output}\")\n",
      "AssertionError: 661.0307008755342 != 678.203189161975 within 5 delta (17.172488286440853 difference) : Should be 678.203189161975\n",
      "\n",
      "======================================================================\n",
      "FAIL: runTest (mod.testing.test_stdev.<locals>.TestKnown.runTest)\n",
      "----------------------------------------------------------------------\n",
      "Traceback (most recent call last):\n",
      "  File \"/Users/ankita/Documents/Ironhack/FunctionsLab3/lab-functions-en/mod/testing.py\", line 142, in runTest\n",
      "    self.assertAlmostEqual(fn(self.input), self.output, delta=5, msg=f\"Should be {self.output}\")\n",
      "AssertionError: 629.411443775497 != 640.1713931781693 within 5 delta (10.759949402672305 difference) : Should be 640.1713931781693\n",
      "\n",
      "======================================================================\n",
      "FAIL: runTest (mod.testing.test_stdev.<locals>.TestKnown.runTest)\n",
      "----------------------------------------------------------------------\n",
      "Traceback (most recent call last):\n",
      "  File \"/Users/ankita/Documents/Ironhack/FunctionsLab3/lab-functions-en/mod/testing.py\", line 142, in runTest\n",
      "    self.assertAlmostEqual(fn(self.input), self.output, delta=5, msg=f\"Should be {self.output}\")\n",
      "AssertionError: 540.6499813592432 != 558.3808997151198 within 5 delta (17.73091835587661 difference) : Should be 558.3808997151198\n",
      "\n",
      "======================================================================\n",
      "FAIL: runTest (mod.testing.test_stdev.<locals>.TestKnown.runTest)\n",
      "----------------------------------------------------------------------\n",
      "Traceback (most recent call last):\n",
      "  File \"/Users/ankita/Documents/Ironhack/FunctionsLab3/lab-functions-en/mod/testing.py\", line 142, in runTest\n",
      "    self.assertAlmostEqual(fn(self.input), self.output, delta=5, msg=f\"Should be {self.output}\")\n",
      "AssertionError: 568.7257222118345 != 574.6194104246172 within 5 delta (5.893688212782649 difference) : Should be 574.6194104246172\n",
      "\n",
      "======================================================================\n",
      "FAIL: runTest (mod.testing.test_stdev.<locals>.TestKnown.runTest)\n",
      "----------------------------------------------------------------------\n",
      "Traceback (most recent call last):\n",
      "  File \"/Users/ankita/Documents/Ironhack/FunctionsLab3/lab-functions-en/mod/testing.py\", line 142, in runTest\n",
      "    self.assertAlmostEqual(fn(self.input), self.output, delta=5, msg=f\"Should be {self.output}\")\n",
      "AssertionError: 664.4036961803472 != 672.2667355124998 within 5 delta (7.863039332152653 difference) : Should be 672.2667355124998\n",
      "\n",
      "======================================================================\n",
      "FAIL: runTest (mod.testing.test_stdev.<locals>.TestKnown.runTest)\n",
      "----------------------------------------------------------------------\n",
      "Traceback (most recent call last):\n",
      "  File \"/Users/ankita/Documents/Ironhack/FunctionsLab3/lab-functions-en/mod/testing.py\", line 142, in runTest\n",
      "    self.assertAlmostEqual(fn(self.input), self.output, delta=5, msg=f\"Should be {self.output}\")\n",
      "AssertionError: 540.7895180285703 != 549.7287933486467 within 5 delta (8.939275320076376 difference) : Should be 549.7287933486467\n",
      "\n",
      "======================================================================\n",
      "FAIL: runTest (mod.testing.test_stdev.<locals>.TestKnown.runTest)\n",
      "----------------------------------------------------------------------\n",
      "Traceback (most recent call last):\n",
      "  File \"/Users/ankita/Documents/Ironhack/FunctionsLab3/lab-functions-en/mod/testing.py\", line 142, in runTest\n",
      "    self.assertAlmostEqual(fn(self.input), self.output, delta=5, msg=f\"Should be {self.output}\")\n",
      "AssertionError: 603.9587811226588 != 609.327409201334 within 5 delta (5.368628078675215 difference) : Should be 609.327409201334\n",
      "\n",
      "======================================================================\n",
      "FAIL: runTest (mod.testing.test_stdev.<locals>.TestKnown.runTest)\n",
      "----------------------------------------------------------------------\n",
      "Traceback (most recent call last):\n",
      "  File \"/Users/ankita/Documents/Ironhack/FunctionsLab3/lab-functions-en/mod/testing.py\", line 142, in runTest\n",
      "    self.assertAlmostEqual(fn(self.input), self.output, delta=5, msg=f\"Should be {self.output}\")\n",
      "AssertionError: 566.5276953774013 != 577.3196688144272 within 5 delta (10.791973437025945 difference) : Should be 577.3196688144272\n",
      "\n",
      "======================================================================\n",
      "FAIL: runTest (mod.testing.test_stdev.<locals>.TestKnown.runTest)\n",
      "----------------------------------------------------------------------\n",
      "Traceback (most recent call last):\n",
      "  File \"/Users/ankita/Documents/Ironhack/FunctionsLab3/lab-functions-en/mod/testing.py\", line 142, in runTest\n",
      "    self.assertAlmostEqual(fn(self.input), self.output, delta=5, msg=f\"Should be {self.output}\")\n",
      "AssertionError: 642.4937340917088 != 673.8531132092647 within 5 delta (31.35937911755593 difference) : Should be 673.8531132092647\n",
      "\n",
      "======================================================================\n",
      "FAIL: runTest (mod.testing.test_stdev.<locals>.TestKnown.runTest)\n",
      "----------------------------------------------------------------------\n",
      "Traceback (most recent call last):\n",
      "  File \"/Users/ankita/Documents/Ironhack/FunctionsLab3/lab-functions-en/mod/testing.py\", line 142, in runTest\n",
      "    self.assertAlmostEqual(fn(self.input), self.output, delta=5, msg=f\"Should be {self.output}\")\n",
      "AssertionError: 581.3919345821906 != 593.8964174922635 within 5 delta (12.504482910072852 difference) : Should be 593.8964174922635\n",
      "\n",
      "======================================================================\n",
      "FAIL: runTest (mod.testing.test_stdev.<locals>.TestKnown.runTest)\n",
      "----------------------------------------------------------------------\n",
      "Traceback (most recent call last):\n",
      "  File \"/Users/ankita/Documents/Ironhack/FunctionsLab3/lab-functions-en/mod/testing.py\", line 142, in runTest\n",
      "    self.assertAlmostEqual(fn(self.input), self.output, delta=5, msg=f\"Should be {self.output}\")\n",
      "AssertionError: 597.7131220966548 != 606.4393226868128 within 5 delta (8.726200590157987 difference) : Should be 606.4393226868128\n",
      "\n",
      "======================================================================\n",
      "FAIL: runTest (mod.testing.test_stdev.<locals>.TestKnown.runTest)\n",
      "----------------------------------------------------------------------\n",
      "Traceback (most recent call last):\n",
      "  File \"/Users/ankita/Documents/Ironhack/FunctionsLab3/lab-functions-en/mod/testing.py\", line 142, in runTest\n",
      "    self.assertAlmostEqual(fn(self.input), self.output, delta=5, msg=f\"Should be {self.output}\")\n",
      "AssertionError: 536.5139032376951 != 556.7667898157704 within 5 delta (20.252886578075277 difference) : Should be 556.7667898157704\n",
      "\n",
      "======================================================================\n",
      "FAIL: runTest (mod.testing.test_stdev.<locals>.TestKnown.runTest)\n",
      "----------------------------------------------------------------------\n",
      "Traceback (most recent call last):\n",
      "  File \"/Users/ankita/Documents/Ironhack/FunctionsLab3/lab-functions-en/mod/testing.py\", line 142, in runTest\n",
      "    self.assertAlmostEqual(fn(self.input), self.output, delta=5, msg=f\"Should be {self.output}\")\n",
      "AssertionError: 508.921185305923 != 515.7526478275313 within 5 delta (6.831462521608273 difference) : Should be 515.7526478275313\n",
      "\n",
      "======================================================================\n",
      "FAIL: runTest (mod.testing.test_stdev.<locals>.TestKnown.runTest)\n",
      "----------------------------------------------------------------------\n",
      "Traceback (most recent call last):\n",
      "  File \"/Users/ankita/Documents/Ironhack/FunctionsLab3/lab-functions-en/mod/testing.py\", line 142, in runTest\n",
      "    self.assertAlmostEqual(fn(self.input), self.output, delta=5, msg=f\"Should be {self.output}\")\n",
      "AssertionError: 527.7003679810607 != 535.404430502476 within 5 delta (7.704062521415267 difference) : Should be 535.404430502476\n",
      "\n",
      "======================================================================\n",
      "FAIL: runTest (mod.testing.test_stdev.<locals>.TestKnown.runTest)\n",
      "----------------------------------------------------------------------\n",
      "Traceback (most recent call last):\n",
      "  File \"/Users/ankita/Documents/Ironhack/FunctionsLab3/lab-functions-en/mod/testing.py\", line 142, in runTest\n",
      "    self.assertAlmostEqual(fn(self.input), self.output, delta=5, msg=f\"Should be {self.output}\")\n",
      "AssertionError: 568.3749007281882 != 584.8529478323892 within 5 delta (16.478047104200982 difference) : Should be 584.8529478323892\n",
      "\n",
      "======================================================================\n",
      "FAIL: runTest (mod.testing.test_stdev.<locals>.TestKnown.runTest)\n",
      "----------------------------------------------------------------------\n",
      "Traceback (most recent call last):\n",
      "  File \"/Users/ankita/Documents/Ironhack/FunctionsLab3/lab-functions-en/mod/testing.py\", line 142, in runTest\n",
      "    self.assertAlmostEqual(fn(self.input), self.output, delta=5, msg=f\"Should be {self.output}\")\n",
      "AssertionError: 583.1083705489372 != 591.1516245797209 within 5 delta (8.043254030783714 difference) : Should be 591.1516245797209\n",
      "\n",
      "======================================================================\n",
      "FAIL: runTest (mod.testing.test_stdev.<locals>.TestKnown.runTest)\n",
      "----------------------------------------------------------------------\n",
      "Traceback (most recent call last):\n",
      "  File \"/Users/ankita/Documents/Ironhack/FunctionsLab3/lab-functions-en/mod/testing.py\", line 142, in runTest\n",
      "    self.assertAlmostEqual(fn(self.input), self.output, delta=5, msg=f\"Should be {self.output}\")\n",
      "AssertionError: 630.1502931206438 != 636.6805223854692 within 5 delta (6.53022926482538 difference) : Should be 636.6805223854692\n",
      "\n",
      "======================================================================\n",
      "FAIL: runTest (mod.testing.test_stdev.<locals>.TestKnown.runTest)\n",
      "----------------------------------------------------------------------\n",
      "Traceback (most recent call last):\n",
      "  File \"/Users/ankita/Documents/Ironhack/FunctionsLab3/lab-functions-en/mod/testing.py\", line 142, in runTest\n",
      "    self.assertAlmostEqual(fn(self.input), self.output, delta=5, msg=f\"Should be {self.output}\")\n",
      "AssertionError: 526.0250099673124 != 531.9689840582813 within 5 delta (5.943974090968936 difference) : Should be 531.9689840582813\n",
      "\n",
      "======================================================================\n",
      "FAIL: runTest (mod.testing.test_stdev.<locals>.TestKnown.runTest)\n",
      "----------------------------------------------------------------------\n",
      "Traceback (most recent call last):\n",
      "  File \"/Users/ankita/Documents/Ironhack/FunctionsLab3/lab-functions-en/mod/testing.py\", line 142, in runTest\n",
      "    self.assertAlmostEqual(fn(self.input), self.output, delta=5, msg=f\"Should be {self.output}\")\n",
      "AssertionError: 697.5347405582852 != 723.8660097006904 within 5 delta (26.331269142405176 difference) : Should be 723.8660097006904\n",
      "\n",
      "======================================================================\n",
      "FAIL: runTest (mod.testing.test_stdev.<locals>.TestKnown.runTest)\n",
      "----------------------------------------------------------------------\n",
      "Traceback (most recent call last):\n",
      "  File \"/Users/ankita/Documents/Ironhack/FunctionsLab3/lab-functions-en/mod/testing.py\", line 142, in runTest\n",
      "    self.assertAlmostEqual(fn(self.input), self.output, delta=5, msg=f\"Should be {self.output}\")\n",
      "AssertionError: 625.1896000167345 != 630.6498748674231 within 5 delta (5.46027485068862 difference) : Should be 630.6498748674231\n",
      "\n",
      "======================================================================\n",
      "FAIL: runTest (mod.testing.test_stdev.<locals>.TestKnown.runTest)\n",
      "----------------------------------------------------------------------\n",
      "Traceback (most recent call last):\n",
      "  File \"/Users/ankita/Documents/Ironhack/FunctionsLab3/lab-functions-en/mod/testing.py\", line 142, in runTest\n",
      "    self.assertAlmostEqual(fn(self.input), self.output, delta=5, msg=f\"Should be {self.output}\")\n",
      "AssertionError: 529.2843695760824 != 549.2643481747419 within 5 delta (19.9799785986595 difference) : Should be 549.2643481747419\n",
      "\n",
      "======================================================================\n",
      "FAIL: runTest (mod.testing.test_stdev.<locals>.TestKnown.runTest)\n",
      "----------------------------------------------------------------------\n",
      "Traceback (most recent call last):\n",
      "  File \"/Users/ankita/Documents/Ironhack/FunctionsLab3/lab-functions-en/mod/testing.py\", line 142, in runTest\n",
      "    self.assertAlmostEqual(fn(self.input), self.output, delta=5, msg=f\"Should be {self.output}\")\n",
      "AssertionError: 615.8923224026979 != 621.7861631268609 within 5 delta (5.893840724162942 difference) : Should be 621.7861631268609\n",
      "\n",
      "======================================================================\n",
      "FAIL: runTest (mod.testing.test_stdev.<locals>.TestKnown.runTest)\n",
      "----------------------------------------------------------------------\n",
      "Traceback (most recent call last):\n",
      "  File \"/Users/ankita/Documents/Ironhack/FunctionsLab3/lab-functions-en/mod/testing.py\", line 142, in runTest\n",
      "    self.assertAlmostEqual(fn(self.input), self.output, delta=5, msg=f\"Should be {self.output}\")\n",
      "AssertionError: 573.3458046979205 != 590.99132819357 within 5 delta (17.645523495649513 difference) : Should be 590.99132819357\n",
      "\n",
      "======================================================================\n",
      "FAIL: runTest (mod.testing.test_stdev.<locals>.TestKnown.runTest)\n",
      "----------------------------------------------------------------------\n",
      "Traceback (most recent call last):\n",
      "  File \"/Users/ankita/Documents/Ironhack/FunctionsLab3/lab-functions-en/mod/testing.py\", line 142, in runTest\n",
      "    self.assertAlmostEqual(fn(self.input), self.output, delta=5, msg=f\"Should be {self.output}\")\n",
      "AssertionError: 476.4644226180599 != 491.1282853257984 within 5 delta (14.663862707738474 difference) : Should be 491.1282853257984\n",
      "\n",
      "======================================================================\n",
      "FAIL: runTest (mod.testing.test_stdev.<locals>.TestKnown.runTest)\n",
      "----------------------------------------------------------------------\n",
      "Traceback (most recent call last):\n",
      "  File \"/Users/ankita/Documents/Ironhack/FunctionsLab3/lab-functions-en/mod/testing.py\", line 142, in runTest\n",
      "    self.assertAlmostEqual(fn(self.input), self.output, delta=5, msg=f\"Should be {self.output}\")\n",
      "AssertionError: 582.3016098061788 != 589.5354475368204 within 5 delta (7.23383773064154 difference) : Should be 589.5354475368204\n",
      "\n",
      "======================================================================\n",
      "FAIL: runTest (mod.testing.test_stdev.<locals>.TestKnown.runTest)\n",
      "----------------------------------------------------------------------\n",
      "Traceback (most recent call last):\n",
      "  File \"/Users/ankita/Documents/Ironhack/FunctionsLab3/lab-functions-en/mod/testing.py\", line 142, in runTest\n",
      "    self.assertAlmostEqual(fn(self.input), self.output, delta=5, msg=f\"Should be {self.output}\")\n",
      "AssertionError: 522.5341020020627 != 532.1226834711618 within 5 delta (9.588581469099154 difference) : Should be 532.1226834711618\n",
      "\n",
      "======================================================================\n",
      "FAIL: runTest (mod.testing.test_stdev.<locals>.TestKnown.runTest)\n",
      "----------------------------------------------------------------------\n",
      "Traceback (most recent call last):\n",
      "  File \"/Users/ankita/Documents/Ironhack/FunctionsLab3/lab-functions-en/mod/testing.py\", line 142, in runTest\n",
      "    self.assertAlmostEqual(fn(self.input), self.output, delta=5, msg=f\"Should be {self.output}\")\n",
      "AssertionError: 582.2294640336637 != 600.1483946393886 within 5 delta (17.91893060572488 difference) : Should be 600.1483946393886\n",
      "\n",
      "======================================================================\n",
      "FAIL: runTest (mod.testing.test_stdev.<locals>.TestKnown.runTest)\n",
      "----------------------------------------------------------------------\n",
      "Traceback (most recent call last):\n",
      "  File \"/Users/ankita/Documents/Ironhack/FunctionsLab3/lab-functions-en/mod/testing.py\", line 142, in runTest\n",
      "    self.assertAlmostEqual(fn(self.input), self.output, delta=5, msg=f\"Should be {self.output}\")\n",
      "AssertionError: 500.79205085613336 != 516.2046305373823 within 5 delta (15.412579681248928 difference) : Should be 516.2046305373823\n",
      "\n",
      "======================================================================\n",
      "FAIL: runTest (mod.testing.test_stdev.<locals>.TestKnown.runTest)\n",
      "----------------------------------------------------------------------\n",
      "Traceback (most recent call last):\n",
      "  File \"/Users/ankita/Documents/Ironhack/FunctionsLab3/lab-functions-en/mod/testing.py\", line 142, in runTest\n",
      "    self.assertAlmostEqual(fn(self.input), self.output, delta=5, msg=f\"Should be {self.output}\")\n",
      "AssertionError: 588.5840733731856 != 597.1769961291898 within 5 delta (8.592922756004214 difference) : Should be 597.1769961291898\n",
      "\n",
      "======================================================================\n",
      "FAIL: runTest (mod.testing.test_stdev.<locals>.TestKnown.runTest)\n",
      "----------------------------------------------------------------------\n",
      "Traceback (most recent call last):\n",
      "  File \"/Users/ankita/Documents/Ironhack/FunctionsLab3/lab-functions-en/mod/testing.py\", line 142, in runTest\n",
      "    self.assertAlmostEqual(fn(self.input), self.output, delta=5, msg=f\"Should be {self.output}\")\n",
      "AssertionError: 576.1937343569392 != 583.3516949491104 within 5 delta (7.157960592171207 difference) : Should be 583.3516949491104\n",
      "\n",
      "======================================================================\n",
      "FAIL: runTest (mod.testing.test_stdev.<locals>.TestKnown.runTest)\n",
      "----------------------------------------------------------------------\n",
      "Traceback (most recent call last):\n",
      "  File \"/Users/ankita/Documents/Ironhack/FunctionsLab3/lab-functions-en/mod/testing.py\", line 142, in runTest\n",
      "    self.assertAlmostEqual(fn(self.input), self.output, delta=5, msg=f\"Should be {self.output}\")\n",
      "AssertionError: 580.6820992218704 != 590.9604564467438 within 5 delta (10.278357224873389 difference) : Should be 590.9604564467438\n",
      "\n",
      "======================================================================\n",
      "FAIL: runTest (mod.testing.test_stdev.<locals>.TestKnown.runTest)\n",
      "----------------------------------------------------------------------\n",
      "Traceback (most recent call last):\n",
      "  File \"/Users/ankita/Documents/Ironhack/FunctionsLab3/lab-functions-en/mod/testing.py\", line 142, in runTest\n",
      "    self.assertAlmostEqual(fn(self.input), self.output, delta=5, msg=f\"Should be {self.output}\")\n",
      "AssertionError: 510.5359849853269 != 517.5781933062734 within 5 delta (7.042208320946543 difference) : Should be 517.5781933062734\n",
      "\n",
      "======================================================================\n",
      "FAIL: runTest (mod.testing.test_stdev.<locals>.TestKnown.runTest)\n",
      "----------------------------------------------------------------------\n",
      "Traceback (most recent call last):\n",
      "  File \"/Users/ankita/Documents/Ironhack/FunctionsLab3/lab-functions-en/mod/testing.py\", line 142, in runTest\n",
      "    self.assertAlmostEqual(fn(self.input), self.output, delta=5, msg=f\"Should be {self.output}\")\n",
      "AssertionError: 617.9411296146434 != 648.1021243880964 within 5 delta (30.160994773453012 difference) : Should be 648.1021243880964\n",
      "\n",
      "======================================================================\n",
      "FAIL: runTest (mod.testing.test_stdev.<locals>.TestKnown.runTest)\n",
      "----------------------------------------------------------------------\n",
      "Traceback (most recent call last):\n",
      "  File \"/Users/ankita/Documents/Ironhack/FunctionsLab3/lab-functions-en/mod/testing.py\", line 142, in runTest\n",
      "    self.assertAlmostEqual(fn(self.input), self.output, delta=5, msg=f\"Should be {self.output}\")\n",
      "AssertionError: 592.0125613036039 != 597.903378645813 within 5 delta (5.890817342209061 difference) : Should be 597.903378645813\n",
      "\n",
      "======================================================================\n",
      "FAIL: runTest (mod.testing.test_stdev.<locals>.TestKnown.runTest)\n",
      "----------------------------------------------------------------------\n",
      "Traceback (most recent call last):\n",
      "  File \"/Users/ankita/Documents/Ironhack/FunctionsLab3/lab-functions-en/mod/testing.py\", line 142, in runTest\n",
      "    self.assertAlmostEqual(fn(self.input), self.output, delta=5, msg=f\"Should be {self.output}\")\n",
      "AssertionError: 638.1682505235837 != 650.8064724750243 within 5 delta (12.638221951440642 difference) : Should be 650.8064724750243\n",
      "\n",
      "======================================================================\n",
      "FAIL: runTest (mod.testing.test_stdev.<locals>.TestKnown.runTest)\n",
      "----------------------------------------------------------------------\n",
      "Traceback (most recent call last):\n",
      "  File \"/Users/ankita/Documents/Ironhack/FunctionsLab3/lab-functions-en/mod/testing.py\", line 142, in runTest\n",
      "    self.assertAlmostEqual(fn(self.input), self.output, delta=5, msg=f\"Should be {self.output}\")\n",
      "AssertionError: 580.8410845967729 != 590.770711302899 within 5 delta (9.9296267061261 difference) : Should be 590.770711302899\n",
      "\n",
      "======================================================================\n",
      "FAIL: runTest (mod.testing.test_stdev.<locals>.TestKnown.runTest)\n",
      "----------------------------------------------------------------------\n",
      "Traceback (most recent call last):\n",
      "  File \"/Users/ankita/Documents/Ironhack/FunctionsLab3/lab-functions-en/mod/testing.py\", line 142, in runTest\n",
      "    self.assertAlmostEqual(fn(self.input), self.output, delta=5, msg=f\"Should be {self.output}\")\n",
      "AssertionError: 577.0952286170472 != 583.7670714056295 within 5 delta (6.671842788582353 difference) : Should be 583.7670714056295\n",
      "\n",
      "======================================================================\n",
      "FAIL: runTest (mod.testing.test_stdev.<locals>.TestKnown.runTest)\n",
      "----------------------------------------------------------------------\n",
      "Traceback (most recent call last):\n",
      "  File \"/Users/ankita/Documents/Ironhack/FunctionsLab3/lab-functions-en/mod/testing.py\", line 142, in runTest\n",
      "    self.assertAlmostEqual(fn(self.input), self.output, delta=5, msg=f\"Should be {self.output}\")\n",
      "AssertionError: 548.442287490975 != 560.2380947651516 within 5 delta (11.795807274176582 difference) : Should be 560.2380947651516\n",
      "\n",
      "======================================================================\n",
      "FAIL: runTest (mod.testing.test_stdev.<locals>.TestKnown.runTest)\n",
      "----------------------------------------------------------------------\n",
      "Traceback (most recent call last):\n",
      "  File \"/Users/ankita/Documents/Ironhack/FunctionsLab3/lab-functions-en/mod/testing.py\", line 142, in runTest\n",
      "    self.assertAlmostEqual(fn(self.input), self.output, delta=5, msg=f\"Should be {self.output}\")\n",
      "AssertionError: 586.8648140756097 != 594.3411003706067 within 5 delta (7.476286294996953 difference) : Should be 594.3411003706067\n",
      "\n",
      "======================================================================\n",
      "FAIL: runTest (mod.testing.test_stdev.<locals>.TestKnown.runTest)\n",
      "----------------------------------------------------------------------\n",
      "Traceback (most recent call last):\n",
      "  File \"/Users/ankita/Documents/Ironhack/FunctionsLab3/lab-functions-en/mod/testing.py\", line 142, in runTest\n",
      "    self.assertAlmostEqual(fn(self.input), self.output, delta=5, msg=f\"Should be {self.output}\")\n",
      "AssertionError: 572.4834027288476 != 578.2955659804535 within 5 delta (5.812163251605853 difference) : Should be 578.2955659804535\n",
      "\n",
      "----------------------------------------------------------------------\n",
      "Ran 100 tests in 0.053s\n",
      "\n",
      "FAILED (failures=56)\n"
     ]
    }
   ],
   "source": [
    "# This will test your function \n",
    "test_stdev(st_dev)"
   ]
  },
  {
   "cell_type": "markdown",
   "metadata": {},
   "source": [
    "## 10. Write a function to check if a string is a pangram, i.e.: if it contains all the letters of the alphabet at least once. Mind that the strings may contain characters that are not letters."
   ]
  },
  {
   "cell_type": "code",
   "execution_count": 115,
   "metadata": {},
   "outputs": [],
   "source": [
    "def pangram(string):\n",
    "#your code here\n",
    "    alphabets = \"abcdefghijklmnopqrstuvwxyz\"\n",
    "    count = 0\n",
    "    for char in alphabets:\n",
    "        if char in string.lower():\n",
    "            count += 1\n",
    "            continue\n",
    "    if count == 26:\n",
    "        return True\n",
    "    return False    "
   ]
  },
  {
   "cell_type": "code",
   "execution_count": 116,
   "metadata": {},
   "outputs": [
    {
     "name": "stderr",
     "output_type": "stream",
     "text": [
      "..............................\n",
      "----------------------------------------------------------------------\n",
      "Ran 30 tests in 0.010s\n",
      "\n",
      "OK\n"
     ]
    }
   ],
   "source": [
    "# This will test your function \n",
    "test_pangram(pangram)"
   ]
  },
  {
   "cell_type": "markdown",
   "metadata": {},
   "source": [
    "## 11. Write a function that receives a string of comma separated words and returns a string of comma separated words sorted alphabetically.\n",
    "\n",
    "`NOTE: You may use sorted but not split and definitely no join! 🤪`"
   ]
  },
  {
   "cell_type": "code",
   "execution_count": 117,
   "metadata": {},
   "outputs": [],
   "source": [
    "def sort_alpha(string):\n",
    "#your code here\n",
    "    seperator = \",\"\n",
    "    result = seperator.join(sorted(string.split(\",\")))\n",
    "    return result"
   ]
  },
  {
   "cell_type": "code",
   "execution_count": 118,
   "metadata": {},
   "outputs": [
    {
     "name": "stderr",
     "output_type": "stream",
     "text": [
      "....................................................................................................\n",
      "----------------------------------------------------------------------\n",
      "Ran 100 tests in 0.032s\n",
      "\n",
      "OK\n"
     ]
    }
   ],
   "source": [
    "# This will test your function \n",
    "test_alpha(sort_alpha)"
   ]
  },
  {
   "cell_type": "markdown",
   "metadata": {},
   "source": [
    "## 12. Write a function to check if a given password is strong (at least 8 characters, at least one lower case, at least one upper case, at least one number and at least one special character). It should output True if strong and False if not."
   ]
  },
  {
   "cell_type": "code",
   "execution_count": 142,
   "metadata": {},
   "outputs": [],
   "source": [
    "import re\n",
    "\n",
    "def check_pass(password):\n",
    "#your code here\n",
    "    if len(password) < 8:\n",
    "        return False\n",
    "    \n",
    "    if not re.search(r'[a-z]', password):\n",
    "        return False\n",
    "    if not re.search(r'[A-Z]', password):\n",
    "        return False\n",
    "    if not re.search(r'[0-9]', password):\n",
    "        return False\n",
    "    if not re.search(r'[!@#$%^&*(),.?\\\":{}|<>]', password):\n",
    "        return False\n",
    "    return True\n",
    "                "
   ]
  },
  {
   "cell_type": "code",
   "execution_count": 145,
   "metadata": {},
   "outputs": [
    {
     "data": {
      "text/plain": [
       "True"
      ]
     },
     "execution_count": 145,
     "metadata": {},
     "output_type": "execute_result"
    }
   ],
   "source": [
    "check_pass(\"StrongPass1!\")"
   ]
  },
  {
   "cell_type": "code",
   "execution_count": 147,
   "metadata": {},
   "outputs": [
    {
     "name": "stderr",
     "output_type": "stream",
     "text": [
      "........................................................F............F..............................\n",
      "======================================================================\n",
      "FAIL: runTest (mod.testing.test_pass.<locals>.TestKnown.runTest)\n",
      "----------------------------------------------------------------------\n",
      "Traceback (most recent call last):\n",
      "  File \"/Users/ankita/Documents/Ironhack/FunctionsLab3/lab-functions-en/mod/testing.py\", line 202, in runTest\n",
      "    self.assertEqual(fn(self.input), self.output, f\"Should be {self.output}\")\n",
      "AssertionError: False != True : Should be True\n",
      "\n",
      "======================================================================\n",
      "FAIL: runTest (mod.testing.test_pass.<locals>.TestKnown.runTest)\n",
      "----------------------------------------------------------------------\n",
      "Traceback (most recent call last):\n",
      "  File \"/Users/ankita/Documents/Ironhack/FunctionsLab3/lab-functions-en/mod/testing.py\", line 202, in runTest\n",
      "    self.assertEqual(fn(self.input), self.output, f\"Should be {self.output}\")\n",
      "AssertionError: False != True : Should be True\n",
      "\n",
      "----------------------------------------------------------------------\n",
      "Ran 100 tests in 0.025s\n",
      "\n",
      "FAILED (failures=2)\n"
     ]
    }
   ],
   "source": [
    "# This will test your function \n",
    "test_pass(check_pass)"
   ]
  }
 ],
 "metadata": {
  "kernelspec": {
   "display_name": "Python 3 (ipykernel)",
   "language": "python",
   "name": "python3"
  },
  "language_info": {
   "codemirror_mode": {
    "name": "ipython",
    "version": 3
   },
   "file_extension": ".py",
   "mimetype": "text/x-python",
   "name": "python",
   "nbconvert_exporter": "python",
   "pygments_lexer": "ipython3",
   "version": "3.12.4"
  },
  "vscode": {
   "interpreter": {
    "hash": "aee8b7b246df8f9039afb4144a1f6fd8d2ca17a180786b69acc140d282b71a49"
   }
  }
 },
 "nbformat": 4,
 "nbformat_minor": 4
}
